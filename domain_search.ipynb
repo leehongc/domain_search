{
 "cells": [
  {
   "cell_type": "code",
   "execution_count": 1,
   "metadata": {},
   "outputs": [
    {
     "name": "stderr",
     "output_type": "stream",
     "text": [
      "/anaconda3/lib/python3.7/site-packages/pandas/compat/_optional.py:138: UserWarning: Pandas requires version '2.7.0' or newer of 'numexpr' (version '2.6.9' currently installed).\n",
      "  warnings.warn(msg, UserWarning)\n"
     ]
    }
   ],
   "source": [
    "import requests\n",
    "import os\n",
    "import json\n",
    "from dotenv import load_dotenv\n",
    "import random\n",
    "import nltk\n",
    "import pandas as pd\n",
    "import pickle\n"
   ]
  },
  {
   "cell_type": "code",
   "execution_count": null,
   "metadata": {},
   "outputs": [],
   "source": [
    "# loading environment variable from .env\n",
    "load_dotenv()\n",
    "apiKey = os.getenv('API')\n",
    "\n",
    "url = \"https://domainr.p.rapidapi.com/v2/status?\"\n",
    "\n",
    "querystring = {\"domain\":\"ifitsbrokenfixit.com\"}\n",
    "\n",
    "headers = {\n",
    "\t\"X-RapidAPI-Host\": \"domainr.p.rapidapi.com\",\n",
    "\t\"X-RapidAPI-Key\": apiKey\n",
    "}\n",
    "\n",
    "# response = requests.request(\"GET\", url, headers=headers, params=querystring)\n",
    "\n",
    "# print(response.text)"
   ]
  },
  {
   "cell_type": "markdown",
   "metadata": {},
   "source": [
    "### English Webster's Dictionary "
   ]
  },
  {
   "cell_type": "markdown",
   "metadata": {},
   "source": [
    "Working on randomly selecting a set amount of words from the dictionary to use in the domain search"
   ]
  },
  {
   "cell_type": "code",
   "execution_count": null,
   "metadata": {},
   "outputs": [],
   "source": [
    "with open('dictionary.json', 'r') as f:\n",
    "    file = json.load(f)\n",
    "    \n",
    "# selecting a list of only the words and not their definition\n",
    "word_list = list(file.keys())"
   ]
  },
  {
   "cell_type": "code",
   "execution_count": null,
   "metadata": {},
   "outputs": [],
   "source": [
    "random_100 = random.choices(word_list, k=100)"
   ]
  },
  {
   "cell_type": "markdown",
   "metadata": {},
   "source": [
    "### Determining the sentiment of each word"
   ]
  },
  {
   "cell_type": "markdown",
   "metadata": {},
   "source": [
    "Testing between textblob and vaderSentiment to score each word as postive, neutral, or negative"
   ]
  },
  {
   "cell_type": "code",
   "execution_count": null,
   "metadata": {},
   "outputs": [],
   "source": [
    "from textblob import TextBlob\n",
    "\n",
    "tb = TextBlob('connection').sentiment\n",
    "print(tb)"
   ]
  },
  {
   "cell_type": "code",
   "execution_count": null,
   "metadata": {},
   "outputs": [],
   "source": [
    "from vaderSentiment.vaderSentiment import SentimentIntensityAnalyzer\n",
    "\n",
    "analyzer = SentimentIntensityAnalyzer()\n",
    "\n",
    "vs = analyzer.polarity_scores(\"connection\")\n",
    "print(vs)"
   ]
  },
  {
   "cell_type": "code",
   "execution_count": null,
   "metadata": {},
   "outputs": [],
   "source": [
    "from nltk.sentiment import SentimentIntensityAnalyzer\n",
    "\n",
    "sia = SentimentIntensityAnalyzer()\n",
    "\n",
    "sia.polarity_scores('connection')"
   ]
  },
  {
   "cell_type": "markdown",
   "metadata": {},
   "source": [
    "### Create dataframe with sentiment score for each word\n"
   ]
  },
  {
   "cell_type": "code",
   "execution_count": null,
   "metadata": {},
   "outputs": [],
   "source": [
    "# function to create a list of words with their sentiment score\n",
    "\n",
    "output_list = []\n",
    "\n",
    "def create_sentiment_list(word_list, output_list):\n",
    "    for word in word_list:\n",
    "        score_list = [word]\n",
    "        word_sentiment = sia.polarity_scores(word)\n",
    "        for score in word_sentiment.values():\n",
    "            score_list.append(score)\n",
    "        output_list.append(score_list)\n",
    "        \n",
    "\n",
    "create_sentiment_list(word_list, output_list)"
   ]
  },
  {
   "cell_type": "code",
   "execution_count": null,
   "metadata": {},
   "outputs": [],
   "source": [
    "df = pd.DataFrame(output_list, columns = ['word', 'neg', 'neu', 'pos', 'compound'])"
   ]
  },
  {
   "cell_type": "code",
   "execution_count": null,
   "metadata": {},
   "outputs": [],
   "source": [
    "df.head(10)"
   ]
  },
  {
   "cell_type": "markdown",
   "metadata": {},
   "source": [
    "### Saving the above dataframe using pickle"
   ]
  },
  {
   "cell_type": "code",
   "execution_count": 2,
   "metadata": {},
   "outputs": [],
   "source": [
    "# pickle_out = open('word_with_score_df.pickle', 'wb')\n",
    "# pickle.dump(df, pickle_out)\n",
    "# pickle_out.close()\n",
    "\n",
    "pickle_in = open('word_with_score_df.pickle', 'rb')\n",
    "df = pickle.load(pickle_in)\n",
    "df.to_csv('webster_word_scores.csv')"
   ]
  },
  {
   "cell_type": "code",
   "execution_count": 3,
   "metadata": {},
   "outputs": [
    {
     "data": {
      "text/plain": [
       "['fun',\n",
       " 'lenient',\n",
       " 'benevolence',\n",
       " 'speculative',\n",
       " 'trusty',\n",
       " 'heroic',\n",
       " 'pleasing',\n",
       " 'amazon',\n",
       " 'innocency',\n",
       " 'ready']"
      ]
     },
     "execution_count": 3,
     "metadata": {},
     "output_type": "execute_result"
    }
   ],
   "source": [
    "positive = df[df['pos']>0]\n",
    "pos_list = positive['word'].to_list()\n",
    "pos_list[:10]"
   ]
  },
  {
   "cell_type": "markdown",
   "metadata": {},
   "source": [
    "### Checking on Instant Domain Search on url availability "
   ]
  },
  {
   "cell_type": "code",
   "execution_count": null,
   "metadata": {},
   "outputs": [],
   "source": [
    "# import selenium\n",
    "# from selenium import webdriver\n",
    "# from webdriver_manager.chrome import ChromeDriverManager\n",
    "# from selenium.webdriver.common.by import By\n",
    "\n",
    "\n",
    "# url = 'https://instantdomainsearch.com/?q=connectedlists'\n",
    "# xpath = '/html/body/div[1]/main/section[2]/div[2]/div[1]/div[1]/ul/li[1]/div/a/div[1]'\n",
    "# driver = webdriver.Chrome(ChromeDriverManager().install())\n",
    "# driver.get(url)\n",
    "# class_response = driver.find_element(By.XPATH, xpath)\n"
   ]
  }
 ],
 "metadata": {
  "kernelspec": {
   "display_name": "Python 3",
   "language": "python",
   "name": "python3"
  },
  "language_info": {
   "codemirror_mode": {
    "name": "ipython",
    "version": 3
   },
   "file_extension": ".py",
   "mimetype": "text/x-python",
   "name": "python",
   "nbconvert_exporter": "python",
   "pygments_lexer": "ipython3",
   "version": "3.7.3"
  }
 },
 "nbformat": 4,
 "nbformat_minor": 2
}
