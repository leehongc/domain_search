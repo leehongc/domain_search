{
 "cells": [
  {
   "cell_type": "code",
   "execution_count": 2,
   "metadata": {},
   "outputs": [],
   "source": [
    "import requests\n",
    "import os\n",
    "from dotenv import load_dotenv\n",
    "\n",
    "# loading environment variable from .env\n",
    "load_dotenv()\n",
    "apiKey = os.getenv('API')\n",
    "\n",
    "url = \"https://domainr.p.rapidapi.com/v2/status?\"\n",
    "\n",
    "querystring = {\"domain\":\"ifitsbrokenfixit.com\"}\n",
    "\n",
    "headers = {\n",
    "\t\"X-RapidAPI-Host\": \"domainr.p.rapidapi.com\",\n",
    "\t\"X-RapidAPI-Key\": apiKey\n",
    "}\n",
    "\n",
    "# response = requests.request(\"GET\", url, headers=headers, params=querystring)\n",
    "\n",
    "# print(response.text)"
   ]
  },
  {
   "cell_type": "code",
   "execution_count": null,
   "metadata": {},
   "outputs": [],
   "source": []
  }
 ],
 "metadata": {
  "kernelspec": {
   "display_name": "Python 3",
   "language": "python",
   "name": "python3"
  },
  "language_info": {
   "codemirror_mode": {
    "name": "ipython",
    "version": 3
   },
   "file_extension": ".py",
   "mimetype": "text/x-python",
   "name": "python",
   "nbconvert_exporter": "python",
   "pygments_lexer": "ipython3",
   "version": "3.7.3"
  }
 },
 "nbformat": 4,
 "nbformat_minor": 2
}
